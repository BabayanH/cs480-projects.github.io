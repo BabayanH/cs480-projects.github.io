{
 "cells": [
  {
   "cell_type": "code",
   "execution_count": 1,
   "metadata": {},
   "outputs": [],
   "source": [
    "from bs4 import BeautifulSoup\n",
    "import requests"
   ]
  },
  {
   "cell_type": "code",
   "execution_count": 2,
   "metadata": {},
   "outputs": [],
   "source": [
    "def retrievePages():\n",
    "    pageNumbers.clear()\n",
    "    req = requests.get(URL_RETRIEVE)\n",
    "    soup = BeautifulSoup(req.text, \"html.parser\")\n",
    "    \n",
    "    for aTag in soup.findAll('a', {\"class\": \"card__titleLink manual-link-behavior\"}):\n",
    "        link = aTag.get(\"href\")\n",
    "        pageNumbers.append(link[34: link.index(\"/\", 34)])\n",
    "\n",
    "def scrapeRecipe(id):\n",
    "    req = requests.get(URL_SCRAPE + id)\n",
    "    soup = BeautifulSoup(req.text, \"html.parser\")\n",
    "    title = soup.find('h1', {\"class\": \"headline heading-content\"})\n",
    "    print(title.text.strip())\n",
    "    print(\"-----\")\n",
    "    for ingred in soup.findAll('li', {\"class\": \"ingredients-item\"}):\n",
    "        print(ingred.text.strip())\n",
    "    print(\"-----\")"
   ]
  },
  {
   "cell_type": "code",
   "execution_count": 3,
   "metadata": {},
   "outputs": [
    {
     "name": "stdout",
     "output_type": "stream",
     "text": [
      "Classic Spicy Meatloaf\n",
      "-----\n",
      "2 tablespoons unsalted butter\n",
      "1 cup finely chopped onion\n",
      "½ cup finely chopped green onions\n",
      "1 carrot, finely chopped\n",
      "1 rib celery, finely chopped\n",
      "1 tablespoon minced garlic\n",
      "⅔ cup ketchup, divided\n",
      "2 teaspoons Worcestershire sauce\n",
      "2 teaspoons salt\n",
      "1 ½ teaspoons ground black pepper\n",
      "1 ½ pounds ground beef\n",
      "¾ pound spicy ground pork sausage\n",
      "1 cup bread crumbs\n",
      "⅓ cup minced fresh parsley\n",
      "2 large eggs, slightly beaten\n",
      "-----\n",
      "Classic Spicy Meatloaf\n",
      "-----\n",
      "2 tablespoons unsalted butter\n",
      "1 cup finely chopped onion\n",
      "½ cup finely chopped green onions\n",
      "1 carrot, finely chopped\n",
      "1 rib celery, finely chopped\n",
      "1 tablespoon minced garlic\n",
      "⅔ cup ketchup, divided\n",
      "2 teaspoons Worcestershire sauce\n",
      "2 teaspoons salt\n",
      "1 ½ teaspoons ground black pepper\n",
      "1 ½ pounds ground beef\n",
      "¾ pound spicy ground pork sausage\n",
      "1 cup bread crumbs\n",
      "⅓ cup minced fresh parsley\n",
      "2 large eggs, slightly beaten\n",
      "-----\n",
      "Sweet and Spicy Meatloaf\n",
      "-----\n",
      "2 pounds lean ground beef\n",
      "2 eggs\n",
      "½ onion, chopped\n",
      "⅔ (18 ounce) bottle barbeque sauce\n",
      "1 green bell pepper, chopped\n",
      "1 (10 ounce) can diced tomatoes with green chile peppers\n",
      "1 cup Salsa Verde flavored tortilla chips, crushed\n",
      "2 tablespoons Worcestershire sauce\n",
      "-----\n",
      "Sweet and Spicy Meatloaf\n",
      "-----\n",
      "2 pounds lean ground beef\n",
      "2 eggs\n",
      "½ onion, chopped\n",
      "⅔ (18 ounce) bottle barbeque sauce\n",
      "1 green bell pepper, chopped\n",
      "1 (10 ounce) can diced tomatoes with green chile peppers\n",
      "1 cup Salsa Verde flavored tortilla chips, crushed\n",
      "2 tablespoons Worcestershire sauce\n",
      "-----\n",
      "Devil's Meatloaf on the Grill\n",
      "-----\n",
      "1 ½ pounds ground beef\n",
      "¼ pound chorizo sausage, casings removed and crumbled\n",
      "1 egg\n",
      "½ cup bread crumbs\n",
      "1 (4 ounce) can diced green chilies\n",
      "1 small onion, chopped\n",
      "¼ cup barbecue sauce (such as Famous Dave's® Devil's Spit)\n",
      "¼ cup ketchup\n",
      "1 (1 ounce) package onion soup mix\n",
      "-----\n"
     ]
    }
   ],
   "source": [
    "URL_RETRIEVE = \"https://www.allrecipes.com/search/results/?search=spicy+meatloaf\"\n",
    "URL_SCRAPE = \"https://www.allrecipes.com/recipe/\"\n",
    "pageNumbers = []\n",
    "MAX_REQUESTS = 5\n",
    "currentRequest = 0              \n",
    "retrievePages()\n",
    "for i in pageNumbers:\n",
    "    if(currentRequest < MAX_REQUESTS):\n",
    "        scrapeRecipe(i)\n",
    "        currentRequest = currentRequest + 1\n",
    "    else:\n",
    "        break"
   ]
  },
  {
   "cell_type": "code",
   "execution_count": null,
   "metadata": {},
   "outputs": [],
   "source": []
  }
 ],
 "metadata": {
  "kernelspec": {
   "display_name": "Python 3",
   "language": "python",
   "name": "python3"
  },
  "language_info": {
   "codemirror_mode": {
    "name": "ipython",
    "version": 3
   },
   "file_extension": ".py",
   "mimetype": "text/x-python",
   "name": "python",
   "nbconvert_exporter": "python",
   "pygments_lexer": "ipython3",
   "version": "3.8.3"
  }
 },
 "nbformat": 4,
 "nbformat_minor": 4
}
